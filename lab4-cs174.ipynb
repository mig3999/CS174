{
 "cells": [
  {
   "cell_type": "markdown",
   "id": "d07a67b2-a44a-44eb-9ea6-130da14a20ea",
   "metadata": {},
   "source": [
    "# COMSCI174 LAB 4 (Chapter 3)"
   ]
  },
  {
   "cell_type": "markdown",
   "id": "f5284c52-e634-4fe6-96d0-306b653f4b4d",
   "metadata": {},
   "source": [
    "### P3.1 \n",
    "\n",
    "Write a program that reads an integer and prints whether it is negative, zero, or positive.\n"
   ]
  },
  {
   "cell_type": "code",
   "execution_count": null,
   "id": "530f3a02-bb8e-458b-a647-08644f94712f",
   "metadata": {},
   "outputs": [],
   "source": [
    "#p3.1 goes here\n"
   ]
  },
  {
   "cell_type": "markdown",
   "id": "c70b7034-b061-4ae3-b5dd-868c37c95b64",
   "metadata": {},
   "source": [
    "\n",
    "&nbsp;\n",
    "\n",
    "### P3.2\n",
    "\n",
    "Write a program that reads a floating-point number and prints “zero” if the number is zero. Otherwise, print “positive” or “negative”. Add “small” if the absolute value of the number is less than 1, or “large” if it exceeds 1,000,000."
   ]
  },
  {
   "cell_type": "code",
   "execution_count": null,
   "id": "7ccbeac0-8935-487a-8c15-cdad74c1a5e1",
   "metadata": {},
   "outputs": [],
   "source": [
    "#p3.2 goes here"
   ]
  },
  {
   "cell_type": "markdown",
   "id": "c0925c54-3a31-42fd-835d-2817e94d7b07",
   "metadata": {},
   "source": [
    "\n",
    "&nbsp;\n",
    "\n",
    "### P3.3\n",
    "\n",
    "Write a program that reads an integer and prints how many digits the number has, by\n",
    "checking whether the number is ≥ 10, ≥ 100, and so on. (Assume that all integers are less than ten billion.) If the number is negative, first multiply it by –1."
   ]
  },
  {
   "cell_type": "code",
   "execution_count": null,
   "id": "d3e3d325-bb8b-479d-baa3-c20a9f7633e0",
   "metadata": {},
   "outputs": [],
   "source": [
    "#P3.3 goes here"
   ]
  },
  {
   "cell_type": "markdown",
   "id": "469a68c1-aae2-4eaf-ac0b-c6334f0d748b",
   "metadata": {},
   "source": [
    "\n",
    "&nbsp;\n",
    "\n",
    "### P3.4 \n",
    "\n",
    "Write a program that reads three numbers and prints “all the same” if they are all the same, “all different” if they are all different, and “neither” otherwise."
   ]
  },
  {
   "cell_type": "code",
   "execution_count": null,
   "id": "5c66671f-a843-48a6-bd2b-324ab051bf0e",
   "metadata": {},
   "outputs": [],
   "source": [
    "#P3.4 goes here."
   ]
  },
  {
   "cell_type": "markdown",
   "id": "da4d50fc-7719-4850-9ad6-f3a759f641d7",
   "metadata": {},
   "source": [
    "\n",
    "&nbsp;\n",
    "\n",
    "### P3.5\n",
    "\n",
    "Write a program that reads three numbers and prints “increasing” if they are in increasing order, “decreasing” if they are in decreasing order, and “neither” other- wise. Here, “increasing” means “strictly increasing”, with each value larger than its predecessor. The sequence 3 4 4 would not be considered increasing."
   ]
  },
  {
   "cell_type": "code",
   "execution_count": null,
   "id": "ad444899-e98e-4aa1-aa04-497db01b54ea",
   "metadata": {},
   "outputs": [],
   "source": [
    "#P3.5 goes here"
   ]
  },
  {
   "cell_type": "markdown",
   "id": "3e981c1a-e582-49b4-b423-9e375109c79f",
   "metadata": {},
   "source": [
    "\n",
    "&nbsp;\n",
    "\n",
    "### P3.6\n",
    "\n",
    "Repeat Exercise •• P3.5, but before reading the numbers, ask the user whether increasing/decreasing should be “strict” or “lenient”. In lenient mode, the sequence 3 4 4 is increasing and the sequence 4 4 4 is both increasing and decreasing."
   ]
  },
  {
   "cell_type": "code",
   "execution_count": null,
   "id": "f1a8562d-753c-44c7-8360-91e20009b971",
   "metadata": {},
   "outputs": [],
   "source": [
    "#p3.6 goes here"
   ]
  },
  {
   "cell_type": "markdown",
   "id": "170021b0-5e74-43ee-bf2c-bbac7392c829",
   "metadata": {},
   "source": [
    "\n",
    "&nbsp;\n",
    "\n",
    "### P3.7\n",
    "\n",
    "Write a program that reads in three integers and prints “in order”if they are sorted in ascending or descending order, or “not in order” otherwise. For example:\n",
    "* 1 2 5 in order\n",
    "* 1 5 2 not in order\n",
    "* 5 2 1 in order\n",
    "* 1 2 2 in order"
   ]
  },
  {
   "cell_type": "code",
   "execution_count": null,
   "id": "a39c773e-67bc-4ef3-8f48-c67b38b7ddca",
   "metadata": {},
   "outputs": [],
   "source": [
    "#p3.7 goes here"
   ]
  },
  {
   "cell_type": "markdown",
   "id": "6de52b00-b546-4ad3-8615-08b394bfd704",
   "metadata": {},
   "source": [
    "\n",
    "&nbsp;\n",
    "\n",
    "### P3.8\n",
    "\n",
    "Write a program that reads four integers and prints “two pairs” if the input consists of two matching pairs (in some order) and “not two pairs” otherwise. For example,\n",
    "* 1 2 2 1 two pairs\n",
    "* 1 2 2 3 not two pairs\n",
    "* 2 2 2 2 two pairs"
   ]
  },
  {
   "cell_type": "code",
   "execution_count": null,
   "id": "85f0052f-cb39-4ccf-9691-2ab5073aecf6",
   "metadata": {},
   "outputs": [],
   "source": [
    "#P3.8 goes here"
   ]
  },
  {
   "cell_type": "markdown",
   "id": "d1e42adf-5674-4139-9f51-a3606bb629f1",
   "metadata": {},
   "source": [
    "\n",
    "&nbsp;\n",
    "\n",
    "### P3.12\n",
    "\n",
    "Write a program that translates a letter grade into a number grade. Letter grades are A, B, C, D, and F, possibly followed by + or –. Their numeric values are 4, 3, 2, 1, and 0. There is no F+ or F–. A + increases the numeric value by 0.3, a – decreases it by 0.3. However, an A+ has value 4.0.\n",
    "\n",
    "For example:\n",
    "\n",
    "* Enter a letter grade: B-\n",
    "\n",
    "  The numeric value is 2.7."
   ]
  },
  {
   "cell_type": "code",
   "execution_count": null,
   "id": "30c89bd3-a4b7-49f8-a8c9-f3b2c4ca1db4",
   "metadata": {},
   "outputs": [],
   "source": [
    "#P3.12 goes here"
   ]
  }
 ],
 "metadata": {
  "kernelspec": {
   "display_name": "Python 3 (ipykernel)",
   "language": "python",
   "name": "python3"
  },
  "language_info": {
   "codemirror_mode": {
    "name": "ipython",
    "version": 3
   },
   "file_extension": ".py",
   "mimetype": "text/x-python",
   "name": "python",
   "nbconvert_exporter": "python",
   "pygments_lexer": "ipython3",
   "version": "3.10.10"
  }
 },
 "nbformat": 4,
 "nbformat_minor": 5
}
